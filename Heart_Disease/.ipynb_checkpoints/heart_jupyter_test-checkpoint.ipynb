{
 "cells": [
  {
   "cell_type": "code",
   "execution_count": 2,
   "metadata": {},
   "outputs": [
    {
     "ename": "ImportError",
     "evalue": "No module named 'sklearn'",
     "output_type": "error",
     "traceback": [
      "\u001b[0;31m---------------------------------------------------------------------------\u001b[0m",
      "\u001b[0;31mImportError\u001b[0m                               Traceback (most recent call last)",
      "\u001b[0;32m<ipython-input-2-95326091ee6d>\u001b[0m in \u001b[0;36m<module>\u001b[0;34m\u001b[0m\n\u001b[1;32m      1\u001b[0m \u001b[0;32mimport\u001b[0m \u001b[0mpandas\u001b[0m \u001b[0;32mas\u001b[0m \u001b[0mpd\u001b[0m\u001b[0;34m\u001b[0m\u001b[0m\n\u001b[0;32m----> 2\u001b[0;31m \u001b[0;32mfrom\u001b[0m \u001b[0msklearn\u001b[0m\u001b[0;34m.\u001b[0m\u001b[0mmodel_selection\u001b[0m \u001b[0;32mimport\u001b[0m \u001b[0mStratifiedShuffleSplit\u001b[0m\u001b[0;34m\u001b[0m\u001b[0m\n\u001b[0m\u001b[1;32m      3\u001b[0m \u001b[0;32mimport\u001b[0m \u001b[0mnumpy\u001b[0m \u001b[0;32mas\u001b[0m \u001b[0mnp\u001b[0m\u001b[0;34m\u001b[0m\u001b[0m\n\u001b[1;32m      4\u001b[0m \u001b[0;32mfrom\u001b[0m \u001b[0msklearn\u001b[0m \u001b[0;32mimport\u001b[0m \u001b[0msvm\u001b[0m\u001b[0;34m\u001b[0m\u001b[0m\n\u001b[1;32m      5\u001b[0m \u001b[0;32mfrom\u001b[0m \u001b[0mmatplotlib\u001b[0m \u001b[0;32mimport\u001b[0m \u001b[0mpyplot\u001b[0m \u001b[0;32mas\u001b[0m \u001b[0mplt\u001b[0m\u001b[0;34m\u001b[0m\u001b[0m\n",
      "\u001b[0;31mImportError\u001b[0m: No module named 'sklearn'"
     ]
    }
   ],
   "source": [
    "import pandas as pd\n",
    "from sklearn.model_selection import StratifiedShuffleSplit\n",
    "import numpy as np\n",
    "from sklearn import svm\n",
    "from matplotlib import pyplot as plt\n",
    "from sklearn import tree"
   ]
  },
  {
   "cell_type": "code",
   "execution_count": null,
   "metadata": {},
   "outputs": [],
   "source": [
    "def perform_stratified_sampling(system_data, system_labels, test_set_size):\n",
    "    selector = StratifiedShuffleSplit(n_splits = 1, test_size = test_set_size, random_state = 12120)\n",
    "    \n",
    "    for train_index, test_index in selector.split(system_data, system_labels):\n",
    "        X_train, X_test = system_data[train_index, :], system_data[test_index, :]\n",
    "        Y_train, Y_test = system_labels[train_index], system_labels[test_index]\n",
    "    print(\"Training set: \", X_train.shape, \" Test set: \", X_test.shape)\n",
    "    \n",
    "    for a_cat in range(len(np.unique(system_labels))):\n",
    "        \n",
    "        print(\"Proportion of points from category \", a_cat, \" :\")\n",
    "        print(\"Full set: \", np.sum(system_labels == a_cat)/len(system_labels), \n",
    "              \" Train set: \", np.sum(Y_train == a_cat)/len(Y_train), \" Test set: \", np.sum(Y_test==a_cat)/len(Y_test))\n",
    "        \n",
    "    return X_train, X_test, Y_train, Y_test"
   ]
  },
  {
   "cell_type": "code",
   "execution_count": null,
   "metadata": {},
   "outputs": [],
   "source": [
    "heart_data_pd = pd.read_csv('heart.csv') "
   ]
  },
  {
   "cell_type": "code",
   "execution_count": null,
   "metadata": {},
   "outputs": [],
   "source": [
    "heart_labels = heart_data_pd['target']\n",
    "heart_data = heart_data_pd.drop(['target'], axis = 1)"
   ]
  },
  {
   "cell_type": "code",
   "execution_count": null,
   "metadata": {},
   "outputs": [],
   "source": [
    "heart_data = np.array(heart_data)\n",
    "heart_labels = np.array(heart_labels)"
   ]
  },
  {
   "cell_type": "code",
   "execution_count": null,
   "metadata": {},
   "outputs": [],
   "source": [
    "train_set, test_set, train_labels, test_labels = perform_stratified_sampling(heart_data, heart_labels, 0.2)"
   ]
  },
  {
   "cell_type": "code",
   "execution_count": null,
   "metadata": {},
   "outputs": [],
   "source": [
    "heart_data_pd.head()"
   ]
  },
  {
   "cell_type": "code",
   "execution_count": null,
   "metadata": {},
   "outputs": [],
   "source": [
    "classifier = tree.DecisionTreeClassifier( max_depth = 8)\n",
    "classifier = classifier.fit( train_set, train_labels )\n",
    "\n",
    "print('Accuracy train set: ', classifier.score(train_set, train_labels), \n",
    "      '\\nAccuracy test set: ', classifier.score(test_set, test_labels))"
   ]
  },
  {
   "cell_type": "code",
   "execution_count": null,
   "metadata": {
    "scrolled": true
   },
   "outputs": [],
   "source": [
    "feature_names = list((heart_data_pd.drop([\"target\"], axis = 1)).keys())\n",
    "classes_names = list(heart_labels)\n",
    "tree.export_graphviz(classifier, out_file=\"heart_disease.dot\", feature_names = feature_names, class_names = list(str(classes_names)), rounded=True, filled=True)"
   ]
  },
  {
   "cell_type": "code",
   "execution_count": null,
   "metadata": {},
   "outputs": [],
   "source": [
    "!dot heart_disease.dot -Tpng -o image.png"
   ]
  },
  {
   "cell_type": "code",
   "execution_count": null,
   "metadata": {},
   "outputs": [],
   "source": [
    "heart_tree = plt.imread(\"image.png\")\n",
    "plt.figure(figsize=(15, 20))\n",
    "plt.imshow(heart_tree)\n",
    "axis(\"off\")\n",
    "plt.show()"
   ]
  },
  {
   "cell_type": "code",
   "execution_count": null,
   "metadata": {
    "scrolled": true
   },
   "outputs": [],
   "source": [
    "random_index = np.random.choice(heart_data.shape[0])\n",
    "random_patient = np.array(heart_data[random_index]).reshape(1, -1)\n",
    "print(\"The random patient is the patient number \" + str(random_index) + \" in the dataset\")"
   ]
  },
  {
   "cell_type": "code",
   "execution_count": null,
   "metadata": {},
   "outputs": [],
   "source": [
    "predicted = int(classifier.predict(random_patient)[0])\n",
    "if predicted == 0:\n",
    "    print(\"The random patient is healthy!!\")\n",
    "else:\n",
    "    print(\"The random patient has a heart disease!!\")"
   ]
  }
 ],
 "metadata": {
  "kernelspec": {
   "display_name": "Python 3",
   "language": "python",
   "name": "python3"
  },
  "language_info": {
   "codemirror_mode": {
    "name": "ipython",
    "version": 3
   },
   "file_extension": ".py",
   "mimetype": "text/x-python",
   "name": "python",
   "nbconvert_exporter": "python",
   "pygments_lexer": "ipython3",
   "version": "3.5.2"
  }
 },
 "nbformat": 4,
 "nbformat_minor": 2
}
