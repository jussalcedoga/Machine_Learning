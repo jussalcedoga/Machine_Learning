{
 "cells": [
  {
   "cell_type": "code",
   "execution_count": 1,
   "metadata": {},
   "outputs": [],
   "source": [
    "import pandas\n",
    "from matplotlib import pyplot\n",
    "import seaborn as sns\n",
    "from sklearn.model_selection import train_test_split\n",
    "from sklearn.linear_model import LinearRegression\n",
    "from sklearn.linear_model import BayesianRidge\n",
    "from scipy import stats\n",
    "import numpy"
   ]
  },
  {
   "cell_type": "code",
   "execution_count": 2,
   "metadata": {},
   "outputs": [
    {
     "data": {
      "text/html": [
       "<div>\n",
       "<style scoped>\n",
       "    .dataframe tbody tr th:only-of-type {\n",
       "        vertical-align: middle;\n",
       "    }\n",
       "\n",
       "    .dataframe tbody tr th {\n",
       "        vertical-align: top;\n",
       "    }\n",
       "\n",
       "    .dataframe thead th {\n",
       "        text-align: right;\n",
       "    }\n",
       "</style>\n",
       "<table border=\"1\" class=\"dataframe\">\n",
       "  <thead>\n",
       "    <tr style=\"text-align: right;\">\n",
       "      <th></th>\n",
       "      <th>longitude</th>\n",
       "      <th>latitude</th>\n",
       "      <th>housing_median_age</th>\n",
       "      <th>total_rooms</th>\n",
       "      <th>total_bedrooms</th>\n",
       "      <th>population</th>\n",
       "      <th>households</th>\n",
       "      <th>median_income</th>\n",
       "      <th>median_house_value</th>\n",
       "      <th>ocean_proximity</th>\n",
       "    </tr>\n",
       "  </thead>\n",
       "  <tbody>\n",
       "    <tr>\n",
       "      <th>0</th>\n",
       "      <td>-122.23</td>\n",
       "      <td>37.88</td>\n",
       "      <td>41.0</td>\n",
       "      <td>880.0</td>\n",
       "      <td>129.0</td>\n",
       "      <td>322.0</td>\n",
       "      <td>126.0</td>\n",
       "      <td>8.3252</td>\n",
       "      <td>452600.0</td>\n",
       "      <td>NEAR BAY</td>\n",
       "    </tr>\n",
       "    <tr>\n",
       "      <th>1</th>\n",
       "      <td>-122.22</td>\n",
       "      <td>37.86</td>\n",
       "      <td>21.0</td>\n",
       "      <td>7099.0</td>\n",
       "      <td>1106.0</td>\n",
       "      <td>2401.0</td>\n",
       "      <td>1138.0</td>\n",
       "      <td>8.3014</td>\n",
       "      <td>358500.0</td>\n",
       "      <td>NEAR BAY</td>\n",
       "    </tr>\n",
       "    <tr>\n",
       "      <th>2</th>\n",
       "      <td>-122.24</td>\n",
       "      <td>37.85</td>\n",
       "      <td>52.0</td>\n",
       "      <td>1467.0</td>\n",
       "      <td>190.0</td>\n",
       "      <td>496.0</td>\n",
       "      <td>177.0</td>\n",
       "      <td>7.2574</td>\n",
       "      <td>352100.0</td>\n",
       "      <td>NEAR BAY</td>\n",
       "    </tr>\n",
       "    <tr>\n",
       "      <th>3</th>\n",
       "      <td>-122.25</td>\n",
       "      <td>37.85</td>\n",
       "      <td>52.0</td>\n",
       "      <td>1274.0</td>\n",
       "      <td>235.0</td>\n",
       "      <td>558.0</td>\n",
       "      <td>219.0</td>\n",
       "      <td>5.6431</td>\n",
       "      <td>341300.0</td>\n",
       "      <td>NEAR BAY</td>\n",
       "    </tr>\n",
       "    <tr>\n",
       "      <th>4</th>\n",
       "      <td>-122.25</td>\n",
       "      <td>37.85</td>\n",
       "      <td>52.0</td>\n",
       "      <td>1627.0</td>\n",
       "      <td>280.0</td>\n",
       "      <td>565.0</td>\n",
       "      <td>259.0</td>\n",
       "      <td>3.8462</td>\n",
       "      <td>342200.0</td>\n",
       "      <td>NEAR BAY</td>\n",
       "    </tr>\n",
       "  </tbody>\n",
       "</table>\n",
       "</div>"
      ],
      "text/plain": [
       "   longitude  latitude  housing_median_age  total_rooms  total_bedrooms  \\\n",
       "0    -122.23     37.88                41.0        880.0           129.0   \n",
       "1    -122.22     37.86                21.0       7099.0          1106.0   \n",
       "2    -122.24     37.85                52.0       1467.0           190.0   \n",
       "3    -122.25     37.85                52.0       1274.0           235.0   \n",
       "4    -122.25     37.85                52.0       1627.0           280.0   \n",
       "\n",
       "   population  households  median_income  median_house_value ocean_proximity  \n",
       "0       322.0       126.0         8.3252            452600.0        NEAR BAY  \n",
       "1      2401.0      1138.0         8.3014            358500.0        NEAR BAY  \n",
       "2       496.0       177.0         7.2574            352100.0        NEAR BAY  \n",
       "3       558.0       219.0         5.6431            341300.0        NEAR BAY  \n",
       "4       565.0       259.0         3.8462            342200.0        NEAR BAY  "
      ]
     },
     "execution_count": 2,
     "metadata": {},
     "output_type": "execute_result"
    }
   ],
   "source": [
    "df = pandas.read_csv(\"datos/housing.csv\")\n",
    "df.head()"
   ]
  },
  {
   "cell_type": "code",
   "execution_count": 3,
   "metadata": {
    "scrolled": true
   },
   "outputs": [
    {
     "data": {
      "text/plain": [
       "(20640, 10)"
      ]
     },
     "execution_count": 3,
     "metadata": {},
     "output_type": "execute_result"
    }
   ],
   "source": [
    "df.shape"
   ]
  },
  {
   "cell_type": "code",
   "execution_count": 4,
   "metadata": {},
   "outputs": [],
   "source": [
    "df = df.dropna()"
   ]
  },
  {
   "cell_type": "code",
   "execution_count": 5,
   "metadata": {},
   "outputs": [
    {
     "data": {
      "text/plain": [
       "(20433, 10)"
      ]
     },
     "execution_count": 5,
     "metadata": {},
     "output_type": "execute_result"
    }
   ],
   "source": [
    "df.shape"
   ]
  },
  {
   "cell_type": "code",
   "execution_count": 6,
   "metadata": {
    "scrolled": true
   },
   "outputs": [
    {
     "data": {
      "text/plain": [
       "Index(['longitude', 'latitude', 'housing_median_age', 'total_rooms',\n",
       "       'total_bedrooms', 'population', 'households', 'median_income',\n",
       "       'median_house_value', 'ocean_proximity'],\n",
       "      dtype='object')"
      ]
     },
     "execution_count": 6,
     "metadata": {},
     "output_type": "execute_result"
    }
   ],
   "source": [
    "df.columns"
   ]
  },
  {
   "cell_type": "code",
   "execution_count": 7,
   "metadata": {},
   "outputs": [
    {
     "data": {
      "text/plain": [
       "Text(0.5, 1.0, 'Distribution Median House Values')"
      ]
     },
     "execution_count": 7,
     "metadata": {},
     "output_type": "execute_result"
    },
    {
     "data": {
      "image/png": "[encoded data removed]",
      "text/plain": [
       "<Figure size 432x288 with 1 Axes>"
      ]
     },
     "metadata": {
      "needs_background": "light"
     },
     "output_type": "display_data"
    }
   ],
   "source": [
    "pyplot.hist(df[\"median_house_value\"], bins = 200)\n",
    "pyplot.xlabel(\"Price\", fontsize=20)\n",
    "pyplot.ylabel(\"Count\", fontsize=20)\n",
    "pyplot.title(\"Distribution Median House Values\")"
   ]
  },
  {
   "cell_type": "code",
   "execution_count": 8,
   "metadata": {},
   "outputs": [
    {
     "data": {
      "text/plain": [
       "latitude             -0.144638\n",
       "longitude            -0.045398\n",
       "population           -0.025300\n",
       "total_bedrooms        0.049686\n",
       "households            0.064894\n",
       "housing_median_age    0.106432\n",
       "total_rooms           0.133294\n",
       "median_income         0.688355\n",
       "median_house_value    1.000000\n",
       "Name: median_house_value, dtype: float64"
      ]
     },
     "execution_count": 8,
     "metadata": {},
     "output_type": "execute_result"
    }
   ],
   "source": [
    "df.corr()[\"median_house_value\"].sort_values()"
   ]
  },
  {
   "cell_type": "code",
   "execution_count": 9,
   "metadata": {
    "scrolled": false
   },
   "outputs": [
    {
     "data": {
      "text/plain": [
       "INLAND               -0.484787\n",
       "ISLAND                0.023525\n",
       "NEAR OCEAN            0.140378\n",
       "NEAR BAY              0.160526\n",
       "<1H OCEAN             0.257614\n",
       "median_house_value    1.000000\n",
       "Name: median_house_value, dtype: float64"
      ]
     },
     "execution_count": 9,
     "metadata": {},
     "output_type": "execute_result"
    }
   ],
   "source": [
    "# One hot encode the variables\n",
    "dummy_df = pandas.get_dummies(df[\"ocean_proximity\"])\n",
    "\n",
    "# Put the grade back in the dataframe\n",
    "dummy_df['median_house_value'] = df['median_house_value']\n",
    "\n",
    "# Find correlations with grade\n",
    "dummy_df.corr()['median_house_value'].sort_values()"
   ]
  },
  {
   "cell_type": "code",
   "execution_count": 10,
   "metadata": {
    "scrolled": true
   },
   "outputs": [
    {
     "data": {
      "image/png": "[encoded data removed]",
      "text/plain": [
       "<Figure size 720x720 with 2 Axes>"
      ]
     },
     "metadata": {
      "needs_background": "light"
     },
     "output_type": "display_data"
    }
   ],
   "source": [
    "f, ax = pyplot.subplots(figsize = (10, 10))\n",
    "sns.heatmap(df.corr(), annot = True, linewidth = 0.3, fmt = \".1f\", ax = ax)\n",
    "pyplot.show()"
   ]
  },
  {
   "cell_type": "code",
   "execution_count": 11,
   "metadata": {},
   "outputs": [],
   "source": [
    "def format_data(df):\n",
    "    # Targets are final grade of student\n",
    "    labels = df['median_house_value']\n",
    "\n",
    "    # One-Hot Encoding of Categorical Variables\n",
    "    df = pandas.get_dummies(df)\n",
    "    \n",
    "    # Find correlations with the Grade\n",
    "    most_correlated = df.corr().abs()['median_house_value'].sort_values(ascending=False)\n",
    "    \n",
    "    # Maintain the top 6 most correlation features with Grade\n",
    "    most_correlated = most_correlated[:]\n",
    "    \n",
    "    df = df.loc[:, most_correlated.index]\n",
    "    \n",
    "    # Split into training/testing sets with 25% split\n",
    "    X_train, X_test, y_train, y_test = train_test_split(df, labels, \n",
    "                                                        test_size = 0.25,\n",
    "                                                        random_state=42)\n",
    "    \n",
    "    return X_train, X_test, y_train, y_test"
   ]
  },
  {
   "cell_type": "code",
   "execution_count": 12,
   "metadata": {},
   "outputs": [
    {
     "data": {
      "text/html": [
       "<div>\n",
       "<style scoped>\n",
       "    .dataframe tbody tr th:only-of-type {\n",
       "        vertical-align: middle;\n",
       "    }\n",
       "\n",
       "    .dataframe tbody tr th {\n",
       "        vertical-align: top;\n",
       "    }\n",
       "\n",
       "    .dataframe thead th {\n",
       "        text-align: right;\n",
       "    }\n",
       "</style>\n",
       "<table border=\"1\" class=\"dataframe\">\n",
       "  <thead>\n",
       "    <tr style=\"text-align: right;\">\n",
       "      <th></th>\n",
       "      <th>median_house_value</th>\n",
       "      <th>median_income</th>\n",
       "      <th>ocean_proximity_INLAND</th>\n",
       "      <th>ocean_proximity_&lt;1H OCEAN</th>\n",
       "      <th>ocean_proximity_NEAR BAY</th>\n",
       "      <th>latitude</th>\n",
       "      <th>ocean_proximity_NEAR OCEAN</th>\n",
       "      <th>total_rooms</th>\n",
       "      <th>housing_median_age</th>\n",
       "      <th>households</th>\n",
       "      <th>total_bedrooms</th>\n",
       "      <th>longitude</th>\n",
       "      <th>population</th>\n",
       "      <th>ocean_proximity_ISLAND</th>\n",
       "    </tr>\n",
       "  </thead>\n",
       "  <tbody>\n",
       "    <tr>\n",
       "      <th>2830</th>\n",
       "      <td>44600.0</td>\n",
       "      <td>1.7109</td>\n",
       "      <td>1</td>\n",
       "      <td>0</td>\n",
       "      <td>0</td>\n",
       "      <td>35.40</td>\n",
       "      <td>0</td>\n",
       "      <td>8739.0</td>\n",
       "      <td>11.0</td>\n",
       "      <td>1919.0</td>\n",
       "      <td>2190.0</td>\n",
       "      <td>-119.01</td>\n",
       "      <td>4781.0</td>\n",
       "      <td>0</td>\n",
       "    </tr>\n",
       "    <tr>\n",
       "      <th>14951</th>\n",
       "      <td>155000.0</td>\n",
       "      <td>2.4567</td>\n",
       "      <td>0</td>\n",
       "      <td>1</td>\n",
       "      <td>0</td>\n",
       "      <td>32.71</td>\n",
       "      <td>0</td>\n",
       "      <td>2413.0</td>\n",
       "      <td>18.0</td>\n",
       "      <td>551.0</td>\n",
       "      <td>533.0</td>\n",
       "      <td>-116.96</td>\n",
       "      <td>1129.0</td>\n",
       "      <td>0</td>\n",
       "    </tr>\n",
       "    <tr>\n",
       "      <th>8314</th>\n",
       "      <td>450000.0</td>\n",
       "      <td>2.1579</td>\n",
       "      <td>0</td>\n",
       "      <td>0</td>\n",
       "      <td>0</td>\n",
       "      <td>33.35</td>\n",
       "      <td>0</td>\n",
       "      <td>1675.0</td>\n",
       "      <td>27.0</td>\n",
       "      <td>331.0</td>\n",
       "      <td>521.0</td>\n",
       "      <td>-118.32</td>\n",
       "      <td>744.0</td>\n",
       "      <td>1</td>\n",
       "    </tr>\n",
       "    <tr>\n",
       "      <th>14271</th>\n",
       "      <td>65700.0</td>\n",
       "      <td>1.0531</td>\n",
       "      <td>0</td>\n",
       "      <td>0</td>\n",
       "      <td>0</td>\n",
       "      <td>32.70</td>\n",
       "      <td>1</td>\n",
       "      <td>818.0</td>\n",
       "      <td>38.0</td>\n",
       "      <td>231.0</td>\n",
       "      <td>217.0</td>\n",
       "      <td>-117.12</td>\n",
       "      <td>953.0</td>\n",
       "      <td>0</td>\n",
       "    </tr>\n",
       "    <tr>\n",
       "      <th>305</th>\n",
       "      <td>91200.0</td>\n",
       "      <td>1.8913</td>\n",
       "      <td>0</td>\n",
       "      <td>0</td>\n",
       "      <td>1</td>\n",
       "      <td>37.76</td>\n",
       "      <td>0</td>\n",
       "      <td>2018.0</td>\n",
       "      <td>43.0</td>\n",
       "      <td>367.0</td>\n",
       "      <td>408.0</td>\n",
       "      <td>-122.18</td>\n",
       "      <td>1111.0</td>\n",
       "      <td>0</td>\n",
       "    </tr>\n",
       "  </tbody>\n",
       "</table>\n",
       "</div>"
      ],
      "text/plain": [
       "       median_house_value  median_income  ocean_proximity_INLAND  \\\n",
       "2830              44600.0         1.7109                       1   \n",
       "14951            155000.0         2.4567                       0   \n",
       "8314             450000.0         2.1579                       0   \n",
       "14271             65700.0         1.0531                       0   \n",
       "305               91200.0         1.8913                       0   \n",
       "\n",
       "       ocean_proximity_<1H OCEAN  ocean_proximity_NEAR BAY  latitude  \\\n",
       "2830                           0                         0     35.40   \n",
       "14951                          1                         0     32.71   \n",
       "8314                           0                         0     33.35   \n",
       "14271                          0                         0     32.70   \n",
       "305                            0                         1     37.76   \n",
       "\n",
       "       ocean_proximity_NEAR OCEAN  total_rooms  housing_median_age  \\\n",
       "2830                            0       8739.0                11.0   \n",
       "14951                           0       2413.0                18.0   \n",
       "8314                            0       1675.0                27.0   \n",
       "14271                           1        818.0                38.0   \n",
       "305                             0       2018.0                43.0   \n",
       "\n",
       "       households  total_bedrooms  longitude  population  \\\n",
       "2830       1919.0          2190.0    -119.01      4781.0   \n",
       "14951       551.0           533.0    -116.96      1129.0   \n",
       "8314        331.0           521.0    -118.32       744.0   \n",
       "14271       231.0           217.0    -117.12       953.0   \n",
       "305         367.0           408.0    -122.18      1111.0   \n",
       "\n",
       "       ocean_proximity_ISLAND  \n",
       "2830                        0  \n",
       "14951                       0  \n",
       "8314                        1  \n",
       "14271                       0  \n",
       "305                         0  "
      ]
     },
     "execution_count": 12,
     "metadata": {},
     "output_type": "execute_result"
    }
   ],
   "source": [
    "X_train, X_test, y_train, y_test = format_data(df)\n",
    "X_train.head()"
   ]
  },
  {
   "cell_type": "code",
   "execution_count": 13,
   "metadata": {},
   "outputs": [
    {
     "name": "stdout",
     "output_type": "stream",
     "text": [
      "(15324, 14)\n",
      "(5109, 14)\n"
     ]
    }
   ],
   "source": [
    "print(X_train.shape)\n",
    "print(X_test.shape)"
   ]
  },
  {
   "cell_type": "code",
   "execution_count": 14,
   "metadata": {},
   "outputs": [],
   "source": [
    "def evaluate(X_train, X_test, y_train, y_test):\n",
    "    # Names of models\n",
    "    model_name_list = ['Linear Regression', \"Bayesian Ridge\"]\n",
    "    \n",
    "    X_train = X_train.drop(columns='median_house_value')\n",
    "    X_test = X_test.drop(columns='median_house_value')\n",
    "    \n",
    "    # Instantiate the models\n",
    "    model1 = LinearRegression()\n",
    "    model2 = BayesianRidge(compute_score=True)\n",
    "    \n",
    "    # Dataframe for results\n",
    "    results = pandas.DataFrame(columns=['mae', 'rmse'], index = model_name_list)\n",
    "    \n",
    "    # Train and predict with each model\n",
    "    for i, model in enumerate([model1, model2]):\n",
    "        model.fit(X_train, y_train)\n",
    "        predictions = model.predict(X_test)\n",
    "        coeff = model.coef_\n",
    "        score = model.score(X_test, y_test)\n",
    "        \n",
    "        print(\"{} Coefficients: \".format(model_name_list[i]), coeff)\n",
    "        print(\"\\n\")\n",
    "        print(\"{} Score: \".format(model_name_list[i]), score)\n",
    "        print(\"\\n\")\n",
    "        # Metrics\n",
    "        mae = numpy.mean(abs(predictions - y_test))\n",
    "        rmse = numpy.sqrt(numpy.mean((predictions - y_test) ** 2))\n",
    "        \n",
    "        # Insert results into the dataframe\n",
    "        model_name = model_name_list[i]\n",
    "        results.loc[model_name, :] = [mae, rmse]\n",
    "    \n",
    "    # Median Value Baseline Metrics\n",
    "    baseline = numpy.mean(y_train)\n",
    "    baseline_mae = numpy.mean(abs(baseline - y_test))\n",
    "    baseline_rmse = numpy.sqrt(numpy.mean((baseline - y_test) ** 2))\n",
    "    \n",
    "    results.loc['Baseline', :] = [baseline_mae, baseline_rmse]\n",
    "    \n",
    "    return results\n"
   ]
  },
  {
   "cell_type": "code",
   "execution_count": 15,
   "metadata": {},
   "outputs": [
    {
     "name": "stdout",
     "output_type": "stream",
     "text": [
      "Linear Regression Coefficients:  [ 3.92330777e+04 -7.36819088e+04 -3.40321348e+04 -4.02817945e+04\n",
      " -2.55205753e+04 -3.12916376e+04 -6.36691750e+00  1.08813173e+03\n",
      "  4.35107705e+01  1.02597469e+02 -2.68384898e+04 -3.62122333e+01\n",
      "  1.79287476e+05]\n",
      "\n",
      "\n",
      "Linear Regression Score:  0.6547516410329023\n",
      "\n",
      "\n",
      "Bayesian Ridge Coefficients:  [ 3.92244863e+04 -5.00655360e+04 -1.05743626e+04 -1.67689497e+04\n",
      " -2.56126711e+04 -7.85132337e+03 -6.36482591e+00  1.09028421e+03\n",
      "  4.30517739e+01  1.03031260e+02 -2.69134708e+04 -3.62257024e+01\n",
      "  8.52601716e+04]\n",
      "\n",
      "\n",
      "Bayesian Ridge Score:  0.6553914482946943\n",
      "\n",
      "\n"
     ]
    }
   ],
   "source": [
    "results = evaluate(X_train, X_test, y_train, y_test)"
   ]
  },
  {
   "cell_type": "code",
   "execution_count": 16,
   "metadata": {},
   "outputs": [
    {
     "name": "stdout",
     "output_type": "stream",
     "text": [
      "                       mae     rmse\n",
      "Linear Regression  49958.5  68343.3\n",
      "Bayesian Ridge     49921.4  68279.9\n",
      "Baseline           92461.7   116314\n"
     ]
    }
   ],
   "source": [
    "print(results)"
   ]
  },
  {
   "cell_type": "code",
   "execution_count": 17,
   "metadata": {
    "scrolled": false
   },
   "outputs": [
    {
     "data": {
      "text/plain": [
       "median_house_value            177500.0000\n",
       "median_income                      2.4827\n",
       "ocean_proximity_INLAND             0.0000\n",
       "ocean_proximity_<1H OCEAN          1.0000\n",
       "ocean_proximity_NEAR BAY           0.0000\n",
       "latitude                          38.3600\n",
       "ocean_proximity_NEAR OCEAN         0.0000\n",
       "total_rooms                     5496.0000\n",
       "housing_median_age                 6.0000\n",
       "households                      1189.0000\n",
       "total_bedrooms                  1374.0000\n",
       "longitude                       -122.6900\n",
       "population                      2502.0000\n",
       "ocean_proximity_ISLAND             0.0000\n",
       "Name: 19157, dtype: float64"
      ]
     },
     "execution_count": 17,
     "metadata": {},
     "output_type": "execute_result"
    }
   ],
   "source": [
    "X_test.iloc[50]"
   ]
  },
  {
   "cell_type": "code",
   "execution_count": 18,
   "metadata": {},
   "outputs": [
    {
     "name": "stdout",
     "output_type": "stream",
     "text": [
      "177499.99999999997\n",
      "177500.00000951337\n"
     ]
    }
   ],
   "source": [
    "model1 = LinearRegression()\n",
    "model2 = BayesianRidge(compute_score=True)\n",
    "\n",
    "# Train and predict with each model\n",
    "for i, model in enumerate([model1, model2]):\n",
    "    model.fit(X_train, y_train)\n",
    "    predictions = model.predict(X_test)\n",
    "    print(predictions[50])"
   ]
  },
  {
   "cell_type": "markdown",
   "metadata": {},
   "source": [
    "# Cross Validation"
   ]
  },
  {
   "cell_type": "code",
   "execution_count": 19,
   "metadata": {},
   "outputs": [],
   "source": [
    "from sklearn.model_selection import cross_val_score\n",
    "import sklearn"
   ]
  },
  {
   "cell_type": "code",
   "execution_count": 20,
   "metadata": {},
   "outputs": [
    {
     "data": {
      "text/plain": [
       "dict_keys(['normalized_mutual_info_score', 'f1_macro', 'f1_weighted', 'recall', 'neg_median_absolute_error', 'recall_micro', 'neg_log_loss', 'neg_mean_squared_error', 'neg_mean_absolute_error', 'f1_samples', 'completeness_score', 'average_precision', 'homogeneity_score', 'fowlkes_mallows_score', 'r2', 'explained_variance', 'precision_samples', 'recall_macro', 'recall_weighted', 'balanced_accuracy', 'mutual_info_score', 'precision_weighted', 'neg_mean_squared_log_error', 'f1', 'f1_micro', 'accuracy', 'precision', 'precision_macro', 'brier_score_loss', 'adjusted_rand_score', 'recall_samples', 'roc_auc', 'adjusted_mutual_info_score', 'precision_micro', 'v_measure_score'])"
      ]
     },
     "execution_count": 20,
     "metadata": {},
     "output_type": "execute_result"
    }
   ],
   "source": [
    "sklearn.metrics.SCORERS.keys()"
   ]
  },
  {
   "cell_type": "code",
   "execution_count": 21,
   "metadata": {},
   "outputs": [],
   "source": [
    "lin_reg = LinearRegression()\n",
    "scores = cross_val_score(lin_reg, X_train, y_train,\n",
    "                        scoring='neg_mean_squared_error', cv=3)"
   ]
  },
  {
   "cell_type": "code",
   "execution_count": 22,
   "metadata": {},
   "outputs": [
    {
     "name": "stdout",
     "output_type": "stream",
     "text": [
      "Mean:\t\t  6.051678197755473e-11 \n",
      "Standard Deviation: 4.543789459150014e-11\n"
     ]
    }
   ],
   "source": [
    "# find root mean squared error, scores is an array of negative numbers\n",
    "rmse_scores = numpy.sqrt(-scores)\n",
    "print(\"Mean:\\t\\t \", rmse_scores.mean(), \"\\nStandard Deviation:\", rmse_scores.std())"
   ]
  },
  {
   "cell_type": "code",
   "execution_count": 23,
   "metadata": {},
   "outputs": [],
   "source": [
    "bayesian_ridge = BayesianRidge()\n",
    "scores_bayesian = cross_val_score(bayesian_ridge, X_train, y_train,\n",
    "                        scoring=\"neg_mean_absolute_error\", cv=10)"
   ]
  },
  {
   "cell_type": "code",
   "execution_count": 24,
   "metadata": {},
   "outputs": [
    {
     "name": "stdout",
     "output_type": "stream",
     "text": [
      "Mean:\t\t  0.00024122816112414087 \n",
      "Standard Deviation: 0.0002025408762082677\n"
     ]
    }
   ],
   "source": [
    "rmse_scores_bayesian = numpy.sqrt(-scores_bayesian)\n",
    "print(\"Mean:\\t\\t \", rmse_scores_bayesian.mean(), \"\\nStandard Deviation:\", rmse_scores_bayesian.std())"
   ]
  }
 ],
 "metadata": {
  "kernelspec": {
   "display_name": "Python 3",
   "language": "python",
   "name": "python3"
  },
  "language_info": {
   "codemirror_mode": {
    "name": "ipython",
    "version": 3
   },
   "file_extension": ".py",
   "mimetype": "text/x-python",
   "name": "python",
   "nbconvert_exporter": "python",
   "pygments_lexer": "ipython3",
   "version": "3.5.2"
  }
 },
 "nbformat": 4,
 "nbformat_minor": 2
}
