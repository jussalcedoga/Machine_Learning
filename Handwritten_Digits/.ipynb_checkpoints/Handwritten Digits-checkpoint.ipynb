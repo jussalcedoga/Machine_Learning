{
 "cells": [
  {
   "cell_type": "code",
   "execution_count": 1,
   "metadata": {},
   "outputs": [],
   "source": [
    "import urllib.request \n",
    "import gzip\n",
    "import os\n",
    "import numpy"
   ]
  },
  {
   "cell_type": "code",
   "execution_count": 2,
   "metadata": {},
   "outputs": [],
   "source": [
    "def load_dataset():\n",
    "    def download(filename, source = \"http://yann.lecun.com/exdb/mnist/\"):\n",
    "        print (\"Downloading: \", filename)\n",
    "        urllib.request.urlretrieve(source+filename, filename)\n",
    "        \n",
    "    def load_mnist_images(filename):\n",
    "        if not os.path.exists(filename):\n",
    "            download(filename)\n",
    "            \n",
    "        with gzip.open(filename, \"rb\") as f:\n",
    "            data = numpy.frombuffer(f.read(), numpy.uint8, offset=16)\n",
    "            data = data.reshape(-1, 1, 28, 28)\n",
    "        return data/numpy.float32(256)\n",
    "        \n",
    "    def load_mnist_labels(filename):\n",
    "        if not os.path.exists(filename):\n",
    "            download(filename)\n",
    "        with gzip.open(filename, \"rb\") as f: \n",
    "            data = numpy.frombuffer(f.read(), numpy.uint8, offset=8)\n",
    "        return data\n",
    "    \n",
    "    x_train = load_mnist_images(\"train-images-idx3-ubyte.gz\")\n",
    "    y_train = load_mnist_labels(\"train-labels-idx1-ubyte.gz\")\n",
    "    x_test = load_mnist_images(\"t10k-images-idx3-ubyte.gz\")\n",
    "    y_test = load_mnist_labels(\"t10k-labels-idx1-ubyte.gz\")\n",
    "    \n",
    "    return x_train, y_train, x_test, y_test"
   ]
  },
  {
   "cell_type": "code",
   "execution_count": 3,
   "metadata": {},
   "outputs": [],
   "source": [
    "x_train, y_train, x_test, y_test = load_dataset()"
   ]
  },
  {
   "cell_type": "code",
   "execution_count": 10,
   "metadata": {},
   "outputs": [],
   "source": [
    "import matplotlib \n",
    "from matplotlib import pyplot\n",
    "%matplotlib notebook\n",
    "\n",
    "matplotlib.use(\"TkAgg\")\n",
    "fig = pyplot.imshow(x_train[1][0])\n",
    "pyplot.show(fig)"
   ]
  },
  {
   "cell_type": "code",
   "execution_count": null,
   "metadata": {},
   "outputs": [],
   "source": []
  }
 ],
 "metadata": {
  "kernelspec": {
   "display_name": "Python 3",
   "language": "python",
   "name": "python3"
  },
  "language_info": {
   "codemirror_mode": {
    "name": "ipython",
    "version": 3
   },
   "file_extension": ".py",
   "mimetype": "text/x-python",
   "name": "python",
   "nbconvert_exporter": "python",
   "pygments_lexer": "ipython3",
   "version": "3.5.2"
  }
 },
 "nbformat": 4,
 "nbformat_minor": 2
}
