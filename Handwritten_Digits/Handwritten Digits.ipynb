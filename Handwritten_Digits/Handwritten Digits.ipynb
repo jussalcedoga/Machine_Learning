{
 "cells": [
  {
   "cell_type": "code",
   "execution_count": null,
   "metadata": {},
   "outputs": [],
   "source": [
    "import urllib.request \n",
    "import gzip\n",
    "import os\n",
    "import numpy\n",
    "import matplotlib \n",
    "from matplotlib import pyplot\n",
    "from keras.models import Sequential\n",
    "from keras.layers import Conv2D, MaxPooling2D, Dense, Flatten\n",
    "from keras.utils import to_categorical\n",
    "%matplotlib notebook"
   ]
  },
  {
   "cell_type": "code",
   "execution_count": 2,
   "metadata": {},
   "outputs": [],
   "source": [
    "def load_dataset():\n",
    "    def download(filename, source = \"http://yann.lecun.com/exdb/mnist/\"):\n",
    "        print (\"Downloading: \", filename)\n",
    "        urllib.request.urlretrieve(source+filename, filename)\n",
    "        \n",
    "    def load_mnist_images(filename):\n",
    "        if not os.path.exists(filename):\n",
    "            download(filename)\n",
    "            \n",
    "        with gzip.open(filename, \"rb\") as f:\n",
    "            data = numpy.frombuffer(f.read(), numpy.uint8, offset=16)\n",
    "            data = data.reshape(-1, 1, 28, 28)\n",
    "        return data/numpy.float32(256)\n",
    "        \n",
    "    def load_mnist_labels(filename):\n",
    "        if not os.path.exists(filename):\n",
    "            download(filename)\n",
    "        with gzip.open(filename, \"rb\") as f: \n",
    "            data = numpy.frombuffer(f.read(), numpy.uint8, offset=8)\n",
    "        return data\n",
    "    \n",
    "    train_images = load_mnist_images(\"train-images-idx3-ubyte.gz\")\n",
    "    train_labels = load_mnist_labels(\"train-labels-idx1-ubyte.gz\")\n",
    "    test_images = load_mnist_images(\"t10k-images-idx3-ubyte.gz\")\n",
    "    test_labels = load_mnist_labels(\"t10k-labels-idx1-ubyte.gz\")\n",
    "    \n",
    "    return train_images, train_labels, test_images, test_labels"
   ]
  },
  {
   "cell_type": "code",
   "execution_count": 3,
   "metadata": {},
   "outputs": [],
   "source": [
    "train_images, train_labels, test_images, test_labels = load_dataset()"
   ]
  },
  {
   "cell_type": "code",
   "execution_count": 4,
   "metadata": {},
   "outputs": [
    {
     "name": "stdout",
     "output_type": "stream",
     "text": [
      "The label of this image must correspond to one:\n",
      "1\n"
     ]
    },
    {
     "data": {
      "image/png": "[encoded data removed]",
      "text/plain": [
       "<Figure size 432x288 with 1 Axes>"
      ]
     },
     "metadata": {
      "needs_background": "light"
     },
     "output_type": "display_data"
    }
   ],
   "source": [
    "pyplot.figure()\n",
    "pyplot.imshow(train_images[40][0])\n",
    "print(\"The label of this image must correspond to one:\")\n",
    "print(train_labels[40])\n",
    "assert(train_labels[40] == 1)\n",
    "pyplot.show()\n",
    "pyplot.close()"
   ]
  },
  {
   "cell_type": "code",
   "execution_count": 5,
   "metadata": {
    "scrolled": false
   },
   "outputs": [
    {
     "name": "stdout",
     "output_type": "stream",
     "text": [
      "(60000, 1, 28, 28)\n",
      "(60000,)\n",
      "(10000, 1, 28, 28)\n",
      "(10000,)\n"
     ]
    }
   ],
   "source": [
    "print(train_images.shape)\n",
    "print(train_labels.shape)\n",
    "print(test_images.shape)\n",
    "print(test_labels.shape)"
   ]
  },
  {
   "cell_type": "code",
   "execution_count": 6,
   "metadata": {},
   "outputs": [],
   "source": [
    "train_images = numpy.reshape(train_images, (60000, 28, 28, 1))\n",
    "test_images = numpy.reshape(test_images, (10000, 28, 28, 1))"
   ]
  },
  {
   "cell_type": "code",
   "execution_count": 8,
   "metadata": {},
   "outputs": [],
   "source": [
    "num_filters = 8\n",
    "filter_size = 3\n",
    "pool_size = 2\n",
    "\n",
    "model = Sequential([\n",
    "  Conv2D(num_filters, filter_size, input_shape=(28, 28, 1)),\n",
    "  Conv2D(num_filters, filter_size, input_shape=(28, 28, 1), strides=2, padding='same', activation='relu',),\n",
    "  MaxPooling2D(pool_size=pool_size),\n",
    "  Flatten(),\n",
    "  Dense(10, activation='softmax'),\n",
    "])"
   ]
  },
  {
   "cell_type": "code",
   "execution_count": 9,
   "metadata": {},
   "outputs": [],
   "source": [
    "model.compile(\n",
    "  'adam',\n",
    "  loss='categorical_crossentropy',\n",
    "  metrics=['accuracy'],\n",
    ")"
   ]
  },
  {
   "cell_type": "code",
   "execution_count": 10,
   "metadata": {},
   "outputs": [
    {
     "name": "stdout",
     "output_type": "stream",
     "text": [
      "Train on 60000 samples, validate on 10000 samples\n",
      "Epoch 1/10\n",
      "60000/60000 [==============================] - 20s 337us/step - loss: 0.3150 - accuracy: 0.9057 - val_loss: 0.1271 - val_accuracy: 0.9598\n",
      "Epoch 2/10\n",
      "60000/60000 [==============================] - 20s 335us/step - loss: 0.1221 - accuracy: 0.9627 - val_loss: 0.1010 - val_accuracy: 0.9701\n",
      "Epoch 3/10\n",
      "60000/60000 [==============================] - 20s 337us/step - loss: 0.0977 - accuracy: 0.9697 - val_loss: 0.0846 - val_accuracy: 0.9735\n",
      "Epoch 4/10\n",
      "60000/60000 [==============================] - 20s 337us/step - loss: 0.0847 - accuracy: 0.9739 - val_loss: 0.0855 - val_accuracy: 0.9735\n",
      "Epoch 5/10\n",
      "60000/60000 [==============================] - 20s 338us/step - loss: 0.0764 - accuracy: 0.9764 - val_loss: 0.0726 - val_accuracy: 0.9763\n",
      "Epoch 6/10\n",
      "60000/60000 [==============================] - 20s 342us/step - loss: 0.0702 - accuracy: 0.9787 - val_loss: 0.0795 - val_accuracy: 0.9744\n",
      "Epoch 7/10\n",
      "60000/60000 [==============================] - 20s 339us/step - loss: 0.0649 - accuracy: 0.9792 - val_loss: 0.0674 - val_accuracy: 0.9791\n",
      "Epoch 8/10\n",
      "60000/60000 [==============================] - 21s 342us/step - loss: 0.0613 - accuracy: 0.9805 - val_loss: 0.0683 - val_accuracy: 0.9793\n",
      "Epoch 9/10\n",
      "60000/60000 [==============================] - 20s 339us/step - loss: 0.0582 - accuracy: 0.9815 - val_loss: 0.0686 - val_accuracy: 0.9777\n",
      "Epoch 10/10\n",
      "60000/60000 [==============================] - 20s 339us/step - loss: 0.0557 - accuracy: 0.9826 - val_loss: 0.0625 - val_accuracy: 0.9805\n"
     ]
    },
    {
     "data": {
      "text/plain": [
       "<keras.callbacks.callbacks.History at 0x8b922fbe10>"
      ]
     },
     "execution_count": 10,
     "metadata": {},
     "output_type": "execute_result"
    }
   ],
   "source": [
    "model.fit(\n",
    "  train_images,\n",
    "  to_categorical(train_labels),\n",
    "  epochs=10,\n",
    "  validation_data=(test_images, to_categorical(test_labels)),\n",
    ")"
   ]
  },
  {
   "cell_type": "code",
   "execution_count": 11,
   "metadata": {},
   "outputs": [],
   "source": [
    "model.save_weights('Handwritten_weights.h5')"
   ]
  },
  {
   "cell_type": "code",
   "execution_count": 12,
   "metadata": {},
   "outputs": [],
   "source": [
    "predictions = model.predict(test_images[:10])"
   ]
  },
  {
   "cell_type": "code",
   "execution_count": 13,
   "metadata": {},
   "outputs": [
    {
     "name": "stdout",
     "output_type": "stream",
     "text": [
      "[7 2 1 0 4 1 4 9 5 9]\n"
     ]
    }
   ],
   "source": [
    "print(numpy.argmax(predictions, axis=1))"
   ]
  },
  {
   "cell_type": "code",
   "execution_count": 14,
   "metadata": {},
   "outputs": [
    {
     "name": "stdout",
     "output_type": "stream",
     "text": [
      "[7 2 1 0 4 1 4 9 5 9]\n"
     ]
    }
   ],
   "source": [
    "print(test_labels[:10])"
   ]
  },
  {
   "cell_type": "code",
   "execution_count": 15,
   "metadata": {},
   "outputs": [],
   "source": [
    "predictions_total = model.predict(test_images)"
   ]
  },
  {
   "cell_type": "code",
   "execution_count": 16,
   "metadata": {},
   "outputs": [],
   "source": [
    "predicted_numbers = numpy.argmax(predictions_total, axis=1)\n",
    "ground_truth = test_labels"
   ]
  },
  {
   "cell_type": "code",
   "execution_count": 18,
   "metadata": {},
   "outputs": [],
   "source": [
    "bad_classified = []\n",
    "for i, num in enumerate(predicted_numbers):\n",
    "    if num != ground_truth[i]:\n",
    "        bad_classified.append(num)"
   ]
  },
  {
   "cell_type": "code",
   "execution_count": 19,
   "metadata": {},
   "outputs": [
    {
     "name": "stdout",
     "output_type": "stream",
     "text": [
      "195\n"
     ]
    },
    {
     "data": {
      "image/png": "[encoded data removed]",
      "text/plain": [
       "<Figure size 432x288 with 1 Axes>"
      ]
     },
     "metadata": {
      "needs_background": "light"
     },
     "output_type": "display_data"
    }
   ],
   "source": [
    "print(len(bad_classified))\n",
    "pyplot.figure()\n",
    "pyplot.hist(bad_classified, bins=10)\n",
    "pyplot.show()\n",
    "pyplot.close()"
   ]
  },
  {
   "cell_type": "code",
   "execution_count": null,
   "metadata": {},
   "outputs": [],
   "source": []
  }
 ],
 "metadata": {
  "kernelspec": {
   "display_name": "Python 3",
   "language": "python",
   "name": "python3"
  },
  "language_info": {
   "codemirror_mode": {
    "name": "ipython",
    "version": 3
   },
   "file_extension": ".py",
   "mimetype": "text/x-python",
   "name": "python",
   "nbconvert_exporter": "python",
   "pygments_lexer": "ipython3",
   "version": "3.6.1"
  }
 },
 "nbformat": 4,
 "nbformat_minor": 2
}
